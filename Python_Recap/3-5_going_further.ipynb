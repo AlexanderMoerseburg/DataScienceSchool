{
 "cells": [
  {
   "cell_type": "markdown",
   "metadata": {},
   "source": [
    "Because of the length of the session, this Python recap could not cover modules or packages that may be useful to you such as : \n",
    "csv\n",
    "Panda\n",
    "Numpy\n",
    "\n",
    "To learn about csv or Panda you can go over the Data Science course material which can be found here : https://github.com/pycam/python-data-science\n",
    "This training material is also done using Jupiter. The README file will get you started. \n",
    "\n",
    "To learn about Numpy : https://numpy.org/\n",
    "\n",
    "You may be interested making your own website. A widely used framework is Django : https://www.djangoproject.com/\n",
    "\n",
    "You also may want to be able to write test scripts, to test your code and make sure it works. The default python comes with all you need to do this : \n",
    "https://docs.python.org/3/library/unittest.html\n",
    "\n",
    "Finally, you may want to get a different editor for your python work. A very good one is called PyCharm : https://www.jetbrains.com/pycharm/. The free community version is already very good. The professional version is of course even better, though depending on your work you may not need all the fancy features that come with the professional edition.  \n"
   ]
  },
  {
   "cell_type": "code",
   "execution_count": null,
   "metadata": {},
   "outputs": [],
   "source": []
  }
 ],
 "metadata": {
  "kernelspec": {
   "display_name": "Python 3",
   "language": "python",
   "name": "python3"
  },
  "language_info": {
   "codemirror_mode": {
    "name": "ipython",
    "version": 3
   },
   "file_extension": ".py",
   "mimetype": "text/x-python",
   "name": "python",
   "nbconvert_exporter": "python",
   "pygments_lexer": "ipython3",
   "version": "3.7.3"
  }
 },
 "nbformat": 4,
 "nbformat_minor": 2
}
