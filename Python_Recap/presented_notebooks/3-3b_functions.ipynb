{
 "cells": [
  {
   "cell_type": "markdown",
   "metadata": {},
   "source": [
    "\n",
    "# .... Session 3 : Python Recap\n",
    "\n",
    "## Session 3.3: Creating functions to write reusable code\n",
    "\n",
    "- [Building reusable code with functions](#Building-reusable-code-with-functions)\n",
    "    - [Exercise 3.3.1](#Exercise-3.3.1)\n"
   ]
  },
  {
   "cell_type": "markdown",
   "metadata": {},
   "source": [
    "## Building reusable code with functions"
   ]
  },
  {
   "cell_type": "markdown",
   "metadata": {},
   "source": [
    "The value of programming is that we can write reusable tools to do a specific job.\n",
    "\n",
    "Functions are a part of how we do this. A function takes an input and performs a task to produce an output. For example, if we want to perform a particular job with many files, we can create a function that takes the name of a file as an argument, and the *call* the function with each file.\n",
    "\n",
    "Every method used in Python (for example, **`print()`**) is a function, and the libraries we import (say, `csv` or `os`) are a collection of functions."
   ]
  },
  {
   "cell_type": "markdown",
   "metadata": {},
   "source": [
    "### Function definition\n",
    "\n",
    "Functions are declared following this general structure:\n",
    "<img src=\"../img/mind_maps/python_function.jpeg\" height=\"300px\" width=900>\n"
   ]
  },
  {
   "cell_type": "code",
   "execution_count": 2,
   "metadata": {},
   "outputs": [
    {
     "name": "stdout",
     "output_type": "stream",
     "text": [
      "devide = 2.0\n",
      "Function with default value = 0.5\n",
      "Result = 3.0\n"
     ]
    }
   ],
   "source": [
    "def devide(dividend = 1, divisor = 2):\n",
    "    \"\"\"\n",
    "    Returns the result of the division of dividend by divisor.\n",
    "    \n",
    "    dividend --- the number that is being devided(default value will be 1 if no value is given)\n",
    "    divisor --- the number to devide the dividend with (default value will be 1 if no value is given)\n",
    "    \n",
    "    return --- the result of the division (int).\n",
    "    \"\"\"\n",
    "    return dividend/divisor\n",
    "\n",
    "\n",
    "division_result = devide(18,9)\n",
    "print(\"devide = {0}\".format(division_result))\n",
    "\n",
    "print(\"Function with default value = {0}\".format(devide()))\n",
    "\n",
    "print(\"Result = {0}\".format(devide(divisor = 5, dividend = 15)))\n",
    "\n"
   ]
  },
  {
   "cell_type": "code",
   "execution_count": 3,
   "metadata": {},
   "outputs": [
    {
     "data": {
      "text/plain": [
       "\u001b[0;31mSignature:\u001b[0m \u001b[0mdevide\u001b[0m\u001b[0;34m(\u001b[0m\u001b[0mdividend\u001b[0m\u001b[0;34m=\u001b[0m\u001b[0;36m1\u001b[0m\u001b[0;34m,\u001b[0m \u001b[0mdivisor\u001b[0m\u001b[0;34m=\u001b[0m\u001b[0;36m2\u001b[0m\u001b[0;34m)\u001b[0m\u001b[0;34m\u001b[0m\u001b[0;34m\u001b[0m\u001b[0m\n",
       "\u001b[0;31mDocstring:\u001b[0m\n",
       "Returns the result of the division of dividend by divisor.\n",
       "\n",
       "dividend --- the number that is being devided(default value will be 1 if no value is given)\n",
       "divisor --- the number to devide the dividend with (default value will be 1 if no value is given)\n",
       "\n",
       "return --- the result of the division (int).\n",
       "\u001b[0;31mFile:\u001b[0m      ~/git/DataScienceSchool/Python_Recap/blank_notebooks/<ipython-input-2-0bb6e13303e6>\n",
       "\u001b[0;31mType:\u001b[0m      function\n"
      ]
     },
     "metadata": {},
     "output_type": "display_data"
    }
   ],
   "source": [
    "# printing the docstring \n",
    "devide?"
   ]
  },
  {
   "cell_type": "markdown",
   "metadata": {},
   "source": [
    "The function declaration starts with the word **`def`**, followed by the function name and any arguments in parenthesis, and ends with a colon. The body of the function is indented just like loops are. If the function returns something when it is called, it includes a **`return`** statement at the end.\n",
    "\n",
    "Once the `return` statement is reached the operation of the function ends, and anything on the return line is passed back as output."
   ]
  },
  {
   "cell_type": "markdown",
   "metadata": {},
   "source": [
    "### Function variable scope\n",
    "\n",
    "If we declare a variable inside the function, it is a local variable only visible within the function, we are therefore unable to access it outside the function:"
   ]
  },
  {
   "cell_type": "code",
   "execution_count": 4,
   "metadata": {},
   "outputs": [],
   "source": [
    "def this_is_the_function_name(input_argument1, input_argument2):\n",
    "    \n",
    "    # This is a variable inside the function\n",
    "    variable_inside_function = '(this is done inside the function!)'\n",
    "\n",
    "    # This function prints the two arguments to screen\n",
    "    print('The function variables are:', input_argument1, input_argument2, variable_inside_function)\n",
    "    \n",
    "    # And returns their product\n",
    "    return input_argument1 * input_argument2"
   ]
  },
  {
   "cell_type": "code",
   "execution_count": 5,
   "metadata": {},
   "outputs": [
    {
     "name": "stdout",
     "output_type": "stream",
     "text": [
      "The function variables are: 5 2 (this is done inside the function!)\n"
     ]
    }
   ],
   "source": [
    "product_of_inputs = this_is_the_function_name(5, 2)"
   ]
  },
  {
   "cell_type": "code",
   "execution_count": 6,
   "metadata": {},
   "outputs": [
    {
     "ename": "NameError",
     "evalue": "name 'variable_inside_function' is not defined",
     "output_type": "error",
     "traceback": [
      "\u001b[0;31m---------------------------------------------------------------------------\u001b[0m",
      "\u001b[0;31mNameError\u001b[0m                                 Traceback (most recent call last)",
      "\u001b[0;32m<ipython-input-6-834222e985ef>\u001b[0m in \u001b[0;36m<module>\u001b[0;34m\u001b[0m\n\u001b[0;32m----> 1\u001b[0;31m \u001b[0mprint\u001b[0m\u001b[0;34m(\u001b[0m\u001b[0mvariable_inside_function\u001b[0m\u001b[0;34m)\u001b[0m\u001b[0;34m\u001b[0m\u001b[0;34m\u001b[0m\u001b[0m\n\u001b[0m",
      "\u001b[0;31mNameError\u001b[0m: name 'variable_inside_function' is not defined"
     ]
    }
   ],
   "source": [
    "print(variable_inside_function)"
   ]
  },
  {
   "cell_type": "code",
   "execution_count": 7,
   "metadata": {},
   "outputs": [
    {
     "name": "stdout",
     "output_type": "stream",
     "text": [
      "10\n"
     ]
    }
   ],
   "source": [
    "print(product_of_inputs)"
   ]
  },
  {
   "cell_type": "markdown",
   "metadata": {},
   "source": [
    "When a variable is declared both inside and outside the function using the same name, only the value of the outside variable (the global one) is visible and accessible, changing it within the function does not change it outside:"
   ]
  },
  {
   "cell_type": "code",
   "execution_count": 12,
   "metadata": {},
   "outputs": [],
   "source": [
    "variable_inside_and_outside_function = 'this is a variable created outside the function'\n",
    "\n",
    "def this_is_the_function_name(input_argument1, input_argument2):\n",
    "\n",
    "    # This is a variable inside the function\n",
    "    variable_inside_function = '(this is done inside the function!)'\n",
    "    \n",
    "    # This is a variable created outside and modified inside the function\n",
    "    variable_inside_and_outside_function = 'sadfsdf'\n",
    "    print(variable_inside_and_outside_function)\n",
    "\n",
    "    # This function prints the two arguments to screen\n",
    "    print('The function arguments are:', input_argument1, input_argument2, variable_inside_function)\n",
    "    \n",
    "    # And returns their product\n",
    "    return input_argument1 * input_argument2"
   ]
  },
  {
   "cell_type": "code",
   "execution_count": 13,
   "metadata": {},
   "outputs": [
    {
     "name": "stdout",
     "output_type": "stream",
     "text": [
      "sadfsdf\n",
      "The function arguments are: 10 3 (this is done inside the function!)\n"
     ]
    }
   ],
   "source": [
    "product_of_inputs = this_is_the_function_name(10, 3)"
   ]
  },
  {
   "cell_type": "code",
   "execution_count": 10,
   "metadata": {},
   "outputs": [
    {
     "name": "stdout",
     "output_type": "stream",
     "text": [
      "this is a variable created outside the function\n"
     ]
    }
   ],
   "source": [
    "print(variable_inside_and_outside_function)"
   ]
  },
  {
   "cell_type": "markdown",
   "metadata": {},
   "source": [
    "**BEWARE!** When using Jupyter Notebooks and modifying a function, you MUST re-run that cell in order for the changed function to be available to the rest of the code. Nothing will visibly happen when you do this, though, because simply defining a function without calling it doesn’t produce an output. Any cells that use the now-changed functions will also have to be re-run for their output to change."
   ]
  },
  {
   "cell_type": "markdown",
   "metadata": {},
   "source": [
    "## Exercise 3.3.1\n",
    "\n",
    "- Write a function that takes two arguments and returns their mean. \n",
    "    - Give your function a meaningful name, and a good documentation. \n",
    "    - Call your function multiple times with different values, and once using the keyword arguments with their associated values.\n",
    "    - Print the result of these different function calls."
   ]
  },
  {
   "cell_type": "markdown",
   "metadata": {},
   "source": [
    "## Next session:\n",
    "\n",
    "Go to our next notebook: [Session 3.4: Visualisation with matplotlib](3-4_matplotlib.ipynb)"
   ]
  },
  {
   "cell_type": "code",
   "execution_count": 17,
   "metadata": {},
   "outputs": [
    {
     "name": "stdout",
     "output_type": "stream",
     "text": [
      "This is a good string !!!?\n",
      "This is a bad string !!!?\n",
      "This is a template string !!!?\n"
     ]
    }
   ],
   "source": [
    "# string formatting\n",
    "template_string = \"This is a {} string {}?\"\n",
    "\n",
    "for word in \"good\", \"bad\", \"template\":\n",
    "    # the word variable is put into the template string at the {}\n",
    "    print(template_string.format(word, '!!!'))"
   ]
  }
 ],
 "metadata": {
  "kernelspec": {
   "display_name": "Python 3",
   "language": "python",
   "name": "python3"
  },
  "language_info": {
   "codemirror_mode": {
    "name": "ipython",
    "version": 3
   },
   "file_extension": ".py",
   "mimetype": "text/x-python",
   "name": "python",
   "nbconvert_exporter": "python",
   "pygments_lexer": "ipython3",
   "version": "3.7.4"
  }
 },
 "nbformat": 4,
 "nbformat_minor": 4
}
