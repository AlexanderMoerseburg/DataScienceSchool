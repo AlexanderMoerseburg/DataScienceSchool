{
 "cells": [
  {
   "cell_type": "markdown",
   "metadata": {},
   "source": [
    "# Session 5\n",
    "## Pandas\n",
    "\n",
    "Pandas is a package for dealing with tabulated data. It has functions for reading, writing and manipulating data as dataframes. It is a standard tool in Python data science."
   ]
  },
  {
   "cell_type": "code",
   "execution_count": null,
   "metadata": {},
   "outputs": [],
   "source": [
    "import pandas as pd"
   ]
  },
  {
   "cell_type": "markdown",
   "metadata": {},
   "source": [
    "We load the data and display the first few rows"
   ]
  },
  {
   "cell_type": "code",
   "execution_count": null,
   "metadata": {},
   "outputs": [],
   "source": [
    "fn_gapminder = \"data/gapminder.csv\"\n",
    "gapminder = pd.read_csv(fn_gapminder)\n",
    "gapminder.head()"
   ]
  },
  {
   "cell_type": "markdown",
   "metadata": {},
   "source": [
    "The describe function gives various stats about the numerical columns"
   ]
  },
  {
   "cell_type": "code",
   "execution_count": null,
   "metadata": {},
   "outputs": [],
   "source": [
    "gapminder.describe()"
   ]
  },
  {
   "cell_type": "markdown",
   "metadata": {},
   "source": [
    "**We can also call methods to perform actions on individual columns. For example, missing values or `NaN`s are often an issue, so the first thing I do is check for any in our data.**"
   ]
  },
  {
   "cell_type": "code",
   "execution_count": null,
   "metadata": {},
   "outputs": [],
   "source": [
    "gapminder.isna().sum()"
   ]
  },
  {
   "cell_type": "markdown",
   "metadata": {},
   "source": [
    "**Data is selected with the `.loc[rows, columns]` method, though there are some short cuts, such as `table.colname`**"
   ]
  },
  {
   "cell_type": "code",
   "execution_count": null,
   "metadata": {},
   "outputs": [],
   "source": [
    "gapminder.loc[:, 'lifeExp']"
   ]
  },
  {
   "cell_type": "code",
   "execution_count": null,
   "metadata": {},
   "outputs": [],
   "source": [
    "gapminder.lifeExp"
   ]
  },
  {
   "cell_type": "markdown",
   "metadata": {},
   "source": [
    "**More complicated selections are made with boolean masks**"
   ]
  },
  {
   "cell_type": "code",
   "execution_count": null,
   "metadata": {},
   "outputs": [],
   "source": [
    "asia_mask = gapminder.continent == 'Asia'\n",
    "asia_mask"
   ]
  },
  {
   "cell_type": "code",
   "execution_count": null,
   "metadata": {},
   "outputs": [],
   "source": [
    "gapminder.loc[asia_mask]"
   ]
  },
  {
   "cell_type": "markdown",
   "metadata": {},
   "source": [
    "**To get the mean GDP for each continent in 2007 we could use the following loop**"
   ]
  },
  {
   "cell_type": "code",
   "execution_count": null,
   "metadata": {},
   "outputs": [],
   "source": [
    "year_mask = gapminder.year == 2007\n",
    "for continent in gapminder.continent.unique():\n",
    "    continent_mask = gapminder.continent == continent\n",
    "    mean_gdp = gapminder.loc[year_mask & continent_mask, 'gdpPercap'].mean()\n",
    "    print(continent, mean_gdp)"
   ]
  },
  {
   "cell_type": "markdown",
   "metadata": {},
   "source": [
    "**Or we could use Pandas `.groupby()` dataframe method designed for this exact kind of operation**"
   ]
  },
  {
   "cell_type": "code",
   "execution_count": null,
   "metadata": {},
   "outputs": [],
   "source": [
    "groups = gapminder.groupby(['year', 'continent'])\n",
    "year_continent_gdp = groups.gdpPercap.mean()\n",
    "year_continent_gdp.loc[2007]"
   ]
  },
  {
   "cell_type": "markdown",
   "metadata": {},
   "source": [
    "**Pandas is extremely useful, and will be used throughout this course**. \n",
    "\n",
    "Tutorials are available here https://pandas.pydata.org/pandas-docs/stable/getting_started/tutorials.html"
   ]
  },
  {
   "cell_type": "markdown",
   "metadata": {},
   "source": [
    "# Going further"
   ]
  },
  {
   "cell_type": "markdown",
   "metadata": {},
   "source": [
    "Because of the length of the session, this Python recap could not cover modules or packages that may be useful to you such as Pandas or Numpy\n",
    "\n",
    "To learn about csv or Pandas you can go over the Data Science course material which can be found here : https://github.com/pycam/python-data-science\n",
    "This training material is also done using Jupiter. The README file will get you started. \n",
    "\n",
    "To learn about Numpy : https://numpy.org/\n",
    "\n",
    "You may be interested making your own website. A widely used framework is Django : https://www.djangoproject.com/\n",
    "\n",
    "You also may want to be able to write test scripts, to test your code and make sure it works. The default python comes with all you need to do this : \n",
    "https://docs.python.org/3/library/unittest.html\n",
    "\n",
    "Finally, you may want to get a different editor for your python work. A very good one is called PyCharm : https://www.jetbrains.com/pycharm/. The free community version is already very good. The professional version is of course even better, though depending on your work you may not need all the fancy features that come with the professional edition.  \n"
   ]
  },
  {
   "cell_type": "code",
   "execution_count": null,
   "metadata": {},
   "outputs": [],
   "source": []
  }
 ],
 "metadata": {
  "kernelspec": {
   "display_name": "Python 3",
   "language": "python",
   "name": "python3"
  },
  "language_info": {
   "codemirror_mode": {
    "name": "ipython",
    "version": 3
   },
   "file_extension": ".py",
   "mimetype": "text/x-python",
   "name": "python",
   "nbconvert_exporter": "python",
   "pygments_lexer": "ipython3",
   "version": "3.7.4"
  }
 },
 "nbformat": 4,
 "nbformat_minor": 4
}
